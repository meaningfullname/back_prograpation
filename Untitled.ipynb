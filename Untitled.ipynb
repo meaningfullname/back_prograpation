{
 "cells": [
  {
   "cell_type": "code",
   "execution_count": 1,
   "id": "2809165c-cf8c-4561-8bc5-20cbba1672e9",
   "metadata": {
    "ExecuteTime": {
     "end_time": "2024-10-07T10:09:48.103573200Z",
     "start_time": "2024-10-07T10:09:30.625314100Z"
    }
   },
   "outputs": [
    {
     "name": "stdout",
     "output_type": "stream",
     "text": [
      "Requirement already satisfied: numpy in c:\\users\\user\\pycharmprojects\\pythonproject4\\.venv\\lib\\site-packages (1.26.4)\n",
      "Note: you may need to restart the kernel to use updated packages.\n"
     ]
    },
    {
     "name": "stderr",
     "output_type": "stream",
     "text": [
      "\n",
      "[notice] A new release of pip is available: 23.2.1 -> 24.2\n",
      "[notice] To update, run: python.exe -m pip install --upgrade pip\n"
     ]
    }
   ],
   "source": [
    "%pip install numpy\n",
    "\n"
   ]
  },
  {
   "cell_type": "code",
   "execution_count": 2,
   "id": "89f0976e-585d-43da-9853-da26012c94f2",
   "metadata": {
    "ExecuteTime": {
     "end_time": "2024-10-07T10:09:48.120433800Z",
     "start_time": "2024-10-07T10:09:48.105573900Z"
    }
   },
   "outputs": [],
   "source": [
    "import math"
   ]
  },
  {
   "cell_type": "code",
   "execution_count": 3,
   "id": "2d4f44c8-ae01-48db-8d44-af34af1df943",
   "metadata": {
    "ExecuteTime": {
     "end_time": "2024-10-07T10:09:51.525105Z",
     "start_time": "2024-10-07T10:09:48.113392Z"
    }
   },
   "outputs": [
    {
     "name": "stdout",
     "output_type": "stream",
     "text": [
      "Requirement already satisfied: matplotlib in c:\\users\\user\\pycharmprojects\\pythonproject4\\.venv\\lib\\site-packages (3.9.0)\n",
      "Requirement already satisfied: contourpy>=1.0.1 in c:\\users\\user\\pycharmprojects\\pythonproject4\\.venv\\lib\\site-packages (from matplotlib) (1.2.1)\n",
      "Requirement already satisfied: cycler>=0.10 in c:\\users\\user\\pycharmprojects\\pythonproject4\\.venv\\lib\\site-packages (from matplotlib) (0.12.1)\n",
      "Requirement already satisfied: fonttools>=4.22.0 in c:\\users\\user\\pycharmprojects\\pythonproject4\\.venv\\lib\\site-packages (from matplotlib) (4.53.0)\n",
      "Requirement already satisfied: kiwisolver>=1.3.1 in c:\\users\\user\\pycharmprojects\\pythonproject4\\.venv\\lib\\site-packages (from matplotlib) (1.4.5)\n",
      "Requirement already satisfied: numpy>=1.23 in c:\\users\\user\\pycharmprojects\\pythonproject4\\.venv\\lib\\site-packages (from matplotlib) (1.26.4)\n",
      "Requirement already satisfied: packaging>=20.0 in c:\\users\\user\\pycharmprojects\\pythonproject4\\.venv\\lib\\site-packages (from matplotlib) (24.0)\n",
      "Requirement already satisfied: pillow>=8 in c:\\users\\user\\pycharmprojects\\pythonproject4\\.venv\\lib\\site-packages (from matplotlib) (10.3.0)\n",
      "Requirement already satisfied: pyparsing>=2.3.1 in c:\\users\\user\\pycharmprojects\\pythonproject4\\.venv\\lib\\site-packages (from matplotlib) (3.1.2)\n",
      "Requirement already satisfied: python-dateutil>=2.7 in c:\\users\\user\\pycharmprojects\\pythonproject4\\.venv\\lib\\site-packages (from matplotlib) (2.9.0.post0)\n",
      "Requirement already satisfied: six>=1.5 in c:\\users\\user\\pycharmprojects\\pythonproject4\\.venv\\lib\\site-packages (from python-dateutil>=2.7->matplotlib) (1.16.0)\n",
      "Note: you may need to restart the kernel to use updated packages.\n"
     ]
    },
    {
     "name": "stderr",
     "output_type": "stream",
     "text": [
      "\n",
      "[notice] A new release of pip is available: 23.2.1 -> 24.2\n",
      "[notice] To update, run: python.exe -m pip install --upgrade pip\n"
     ]
    }
   ],
   "source": [
    "%pip install matplotlib"
   ]
  },
  {
   "cell_type": "code",
   "execution_count": 4,
   "id": "f2bdde00-9dce-4e5c-91f9-22a0ce25e63d",
   "metadata": {
    "ExecuteTime": {
     "end_time": "2024-10-07T10:09:52.026927100Z",
     "start_time": "2024-10-07T10:09:51.526105Z"
    }
   },
   "outputs": [],
   "source": [
    "import matplotlib\n"
   ]
  },
  {
   "cell_type": "code",
   "execution_count": 5,
   "id": "704a107f-cde3-4f77-b8c3-3d32240b2ace",
   "metadata": {
    "ExecuteTime": {
     "end_time": "2024-10-07T10:09:52.035851600Z",
     "start_time": "2024-10-07T10:09:52.028927200Z"
    }
   },
   "outputs": [
    {
     "ename": "SyntaxError",
     "evalue": "invalid syntax (1594456083.py, line 1)",
     "output_type": "error",
     "traceback": [
      "\u001B[1;36m  Cell \u001B[1;32mIn[5], line 1\u001B[1;36m\u001B[0m\n\u001B[1;33m    pip install graphiz\u001B[0m\n\u001B[1;37m        ^\u001B[0m\n\u001B[1;31mSyntaxError\u001B[0m\u001B[1;31m:\u001B[0m invalid syntax\n"
     ]
    }
   ],
   "source": [
    "pip install graphiz\n"
   ]
  },
  {
   "cell_type": "code",
   "execution_count": 9,
   "id": "14843664-817a-40c5-9fb0-f3c568d77596",
   "metadata": {
    "ExecuteTime": {
     "end_time": "2024-10-07T10:15:21.157910Z",
     "start_time": "2024-10-07T10:15:20.307654800Z"
    }
   },
   "outputs": [],
   "source": [
    "import math\n",
    "import numpy as np\n",
    "import matplotlib.pyplot as plt\n",
    "%matplotlib inline"
   ]
  },
  {
   "cell_type": "code",
   "execution_count": 10,
   "id": "9723df0b-5c4a-45ec-95a1-fbb4c152c488",
   "metadata": {
    "ExecuteTime": {
     "end_time": "2024-10-07T10:15:25.543817200Z",
     "start_time": "2024-10-07T10:15:21.841912200Z"
    }
   },
   "outputs": [
    {
     "name": "stdout",
     "output_type": "stream",
     "text": [
      "Requirement already satisfied: graphviz in c:\\users\\user\\pycharmprojects\\pythonproject4\\.venv\\lib\\site-packages (0.20.3)\n",
      "Note: you may need to restart the kernel to use updated packages.\n"
     ]
    },
    {
     "name": "stderr",
     "output_type": "stream",
     "text": [
      "\n",
      "[notice] A new release of pip is available: 23.2.1 -> 24.2\n",
      "[notice] To update, run: python.exe -m pip install --upgrade pip\n"
     ]
    }
   ],
   "source": [
    "%pip install graphviz\n"
   ]
  },
  {
   "cell_type": "code",
   "execution_count": 11,
   "id": "f7ced237-6437-4bfc-b6e4-4d77f754d2a8",
   "metadata": {
    "ExecuteTime": {
     "end_time": "2024-10-07T10:15:31.045309300Z",
     "start_time": "2024-10-07T10:15:31.019593200Z"
    }
   },
   "outputs": [],
   "source": [
    "class Value:\n",
    "  \n",
    "  def __init__(self, data, _children=(), _op='', label=''):\n",
    "    self.data = data\n",
    "    self.grad = 0.0\n",
    "    self._backward = lambda: None\n",
    "    self._prev = set(_children)\n",
    "    self._op = _op\n",
    "    self.label = label\n",
    "    \n",
    "\n",
    "  def __repr__(self):\n",
    "    return f\"Value(data={self.data})\"\n",
    "  \n",
    "  def __add__(self, other):\n",
    "    other = other if isinstance(other, Value) else Value(other)\n",
    "    out = Value(self.data + other.data, (self, other), '+')\n",
    "    \n",
    "    def _backward():\n",
    "      self.grad += 1.0 * out.grad\n",
    "      other.grad += 1.0 * out.grad\n",
    "    out._backward = _backward\n",
    "    \n",
    "    return out\n",
    "\n",
    "  def __mul__(self, other):\n",
    "    other = other if isinstance(other, Value) else Value(other)\n",
    "    out = Value(self.data * other.data, (self, other), '*')\n",
    "    \n",
    "    def _backward():\n",
    "      self.grad += other.data * out.grad\n",
    "      other.grad += self.data * out.grad\n",
    "    out._backward = _backward\n",
    "      \n",
    "    return out\n",
    "  \n",
    "  def __pow__(self, other):\n",
    "    assert isinstance(other, (int, float)), \"only supporting int/float powers for now\"\n",
    "    out = Value(self.data**other, (self,), f'**{other}')\n",
    "\n",
    "    def _backward():\n",
    "        self.grad += other * (self.data ** (other - 1)) * out.grad\n",
    "    out._backward = _backward\n",
    "\n",
    "    return out\n",
    "  \n",
    "  def __rmul__(self, other): # other * self\n",
    "    return self * other\n",
    "\n",
    "  def __truediv__(self, other): # self / other\n",
    "    return self * other**-1\n",
    "\n",
    "  def __neg__(self): # -self\n",
    "    return self * -1\n",
    "\n",
    "  def __sub__(self, other): # self - other\n",
    "    return self + (-other)\n",
    "\n",
    "  def __radd__(self, other): # other + self\n",
    "    return self + other\n",
    "\n",
    "  def tanh(self):\n",
    "    x = self.data\n",
    "    t = (math.exp(2*x) - 1)/(math.exp(2*x) + 1)\n",
    "    out = Value(t, (self, ), 'tanh')\n",
    "    \n",
    "    def _backward():\n",
    "      self.grad += (1 - t**2) * out.grad\n",
    "    out._backward = _backward\n",
    "    \n",
    "    return out\n",
    "  \n",
    "  def exp(self):\n",
    "    x = self.data\n",
    "    out = Value(math.exp(x), (self, ), 'exp')\n",
    "    \n",
    "    def _backward():\n",
    "      self.grad += out.data * out.grad # NOTE: in the video I incorrectly used = instead of +=. Fixed here.\n",
    "    out._backward = _backward\n",
    "    \n",
    "    return out\n",
    "  \n",
    "  \n",
    "  def backward(self):\n",
    "    \n",
    "    topo = []\n",
    "    visited = set()\n",
    "    def build_topo(v):\n",
    "      if v not in visited:\n",
    "        visited.add(v)\n",
    "        for child in v._prev:\n",
    "          build_topo(child)\n",
    "        topo.append(v)\n",
    "    build_topo(self)\n",
    "    \n",
    "    self.grad = 1.0\n",
    "    for node in reversed(topo):\n",
    "      node._backward()"
   ]
  },
  {
   "cell_type": "code",
   "execution_count": 12,
   "id": "9ec2b3b9-08ef-40a2-a8d2-7f7bef32dc55",
   "metadata": {
    "ExecuteTime": {
     "end_time": "2024-10-07T10:15:31.875006700Z",
     "start_time": "2024-10-07T10:15:31.845360200Z"
    }
   },
   "outputs": [],
   "source": [
    "from graphviz import Digraph\n",
    "\n",
    "def trace(root):\n",
    "  # builds a set of all nodes and edges in a graph\n",
    "  nodes, edges = set(), set()\n",
    "  def build(v):\n",
    "    if v not in nodes:\n",
    "      nodes.add(v)\n",
    "      for child in v._prev:\n",
    "        edges.add((child, v))\n",
    "        build(child)\n",
    "  build(root)\n",
    "  return nodes, edges\n",
    "\n",
    "def draw_dot(root):\n",
    "  dot = Digraph(format='svg', graph_attr={'rankdir': 'LR'}) \n",
    "  \n",
    "  nodes, edges = trace(root)\n",
    "  for n in nodes:\n",
    "    uid = str(id(n))\n",
    "    # for any value in the graph, create a rectangular ('record') node for it\n",
    "    dot.node(name = uid, label = \"{ %s | data %.4f | grad %.4f }\" % (n.label, n.data, n.grad), shape='record')\n",
    "    if n._op:\n",
    "      # if this value is a result of some operation, create an op node for it\n",
    "      dot.node(name = uid + n._op, label = n._op)\n",
    "      # and connect this node to it\n",
    "      dot.edge(uid + n._op, uid)\n",
    "\n",
    "  for n1, n2 in edges:\n",
    "    # connect n1 to the op node of n2\n",
    "    dot.edge(str(id(n1)), str(id(n2)) + n2._op)\n",
    "\n",
    "  return dot"
   ]
  },
  {
   "cell_type": "code",
   "execution_count": 13,
   "id": "3a507b3d-502e-4a10-9e62-6f4c3612e5f3",
   "metadata": {
    "ExecuteTime": {
     "end_time": "2024-10-07T10:15:32.695618700Z",
     "start_time": "2024-10-07T10:15:32.682530400Z"
    }
   },
   "outputs": [],
   "source": [
    "x1 = Value(2.0, label='x1')\n",
    "x2 = Value(0.0, label='x2')\n",
    "# weights w1,w2\n",
    "w1 = Value(-3.0, label='w1')\n",
    "w2 = Value(1.0, label='w2')\n",
    "# bias of the neuron\n",
    "b = Value(6.8813735870195432, label='b')\n",
    "# x1*w1 + x2*w2 + b\n",
    "x1w1 = x1*w1; x1w1.label = 'x1*w1'\n",
    "x2w2 = x2*w2; x2w2.label = 'x2*w2'\n",
    "x1w1x2w2 = x1w1 + x2w2; x1w1x2w2.label = 'x1*w1 + x2*w2'\n",
    "n = x1w1x2w2 + b; n.label = 'n'\n",
    "o = n.tanh(); o.label = 'o'\n",
    "o.backward()"
   ]
  },
  {
   "cell_type": "code",
   "execution_count": 14,
   "id": "f2719388-7dd1-418c-874b-daefe467db2a",
   "metadata": {
    "ExecuteTime": {
     "end_time": "2024-10-07T10:15:34.672981Z",
     "start_time": "2024-10-07T10:15:33.973087400Z"
    }
   },
   "outputs": [
    {
     "data": {
      "image/svg+xml": "<?xml version=\"1.0\" encoding=\"UTF-8\" standalone=\"no\"?>\n<!DOCTYPE svg PUBLIC \"-//W3C//DTD SVG 1.1//EN\"\n \"http://www.w3.org/Graphics/SVG/1.1/DTD/svg11.dtd\">\n<!-- Generated by graphviz version 11.0.0 (20240428.1522)\n -->\n<!-- Pages: 1 -->\n<svg width=\"1575pt\" height=\"210pt\"\n viewBox=\"0.00 0.00 1574.75 210.00\" xmlns=\"http://www.w3.org/2000/svg\" xmlns:xlink=\"http://www.w3.org/1999/xlink\">\n<g id=\"graph0\" class=\"graph\" transform=\"scale(1 1) rotate(0) translate(4 206)\">\n<polygon fill=\"white\" stroke=\"none\" points=\"-4,4 -4,-206 1570.75,-206 1570.75,4 -4,4\"/>\n<!-- 1989101227520 -->\n<g id=\"node1\" class=\"node\">\n<title>1989101227520</title>\n<polygon fill=\"none\" stroke=\"black\" points=\"1380.75,-54.5 1380.75,-90.5 1566.75,-90.5 1566.75,-54.5 1380.75,-54.5\"/>\n<text text-anchor=\"middle\" x=\"1392.5\" y=\"-67.2\" font-family=\"Times New Roman,serif\" font-size=\"14.00\">o</text>\n<polyline fill=\"none\" stroke=\"black\" points=\"1404.25,-54.75 1404.25,-90.5\"/>\n<text text-anchor=\"middle\" x=\"1444.5\" y=\"-67.2\" font-family=\"Times New Roman,serif\" font-size=\"14.00\">data 0.7071</text>\n<polyline fill=\"none\" stroke=\"black\" points=\"1484.75,-54.75 1484.75,-90.5\"/>\n<text text-anchor=\"middle\" x=\"1525.75\" y=\"-67.2\" font-family=\"Times New Roman,serif\" font-size=\"14.00\">grad 1.0000</text>\n</g>\n<!-- 1989101227520tanh -->\n<g id=\"node2\" class=\"node\">\n<title>1989101227520tanh</title>\n<ellipse fill=\"none\" stroke=\"black\" cx=\"1317.75\" cy=\"-72.5\" rx=\"27\" ry=\"18\"/>\n<text text-anchor=\"middle\" x=\"1317.75\" y=\"-67.08\" font-family=\"Times New Roman,serif\" font-size=\"14.00\">tanh</text>\n</g>\n<!-- 1989101227520tanh&#45;&gt;1989101227520 -->\n<g id=\"edge1\" class=\"edge\">\n<title>1989101227520tanh&#45;&gt;1989101227520</title>\n<path fill=\"none\" stroke=\"black\" d=\"M1345.22,-72.5C1352.36,-72.5 1360.53,-72.5 1369.21,-72.5\"/>\n<polygon fill=\"black\" stroke=\"black\" points=\"1368.94,-76 1378.94,-72.5 1368.94,-69 1368.94,-76\"/>\n</g>\n<!-- 1989101231216 -->\n<g id=\"node3\" class=\"node\">\n<title>1989101231216</title>\n<polygon fill=\"none\" stroke=\"black\" points=\"1069.5,-54.5 1069.5,-90.5 1254.75,-90.5 1254.75,-54.5 1069.5,-54.5\"/>\n<text text-anchor=\"middle\" x=\"1080.88\" y=\"-67.2\" font-family=\"Times New Roman,serif\" font-size=\"14.00\">n</text>\n<polyline fill=\"none\" stroke=\"black\" points=\"1092.25,-54.75 1092.25,-90.5\"/>\n<text text-anchor=\"middle\" x=\"1132.5\" y=\"-67.2\" font-family=\"Times New Roman,serif\" font-size=\"14.00\">data 0.8814</text>\n<polyline fill=\"none\" stroke=\"black\" points=\"1172.75,-54.75 1172.75,-90.5\"/>\n<text text-anchor=\"middle\" x=\"1213.75\" y=\"-67.2\" font-family=\"Times New Roman,serif\" font-size=\"14.00\">grad 0.5000</text>\n</g>\n<!-- 1989101231216&#45;&gt;1989101227520tanh -->\n<g id=\"edge14\" class=\"edge\">\n<title>1989101231216&#45;&gt;1989101227520tanh</title>\n<path fill=\"none\" stroke=\"black\" d=\"M1255.15,-72.5C1263.52,-72.5 1271.64,-72.5 1279.09,-72.5\"/>\n<polygon fill=\"black\" stroke=\"black\" points=\"1279.03,-76 1289.03,-72.5 1279.03,-69 1279.03,-76\"/>\n</g>\n<!-- 1989101231216+ -->\n<g id=\"node4\" class=\"node\">\n<title>1989101231216+</title>\n<ellipse fill=\"none\" stroke=\"black\" cx=\"1006.5\" cy=\"-72.5\" rx=\"27\" ry=\"18\"/>\n<text text-anchor=\"middle\" x=\"1006.5\" y=\"-67.08\" font-family=\"Times New Roman,serif\" font-size=\"14.00\">+</text>\n</g>\n<!-- 1989101231216+&#45;&gt;1989101231216 -->\n<g id=\"edge2\" class=\"edge\">\n<title>1989101231216+&#45;&gt;1989101231216</title>\n<path fill=\"none\" stroke=\"black\" d=\"M1033.91,-72.5C1040.95,-72.5 1049,-72.5 1057.55,-72.5\"/>\n<polygon fill=\"black\" stroke=\"black\" points=\"1057.54,-76 1067.54,-72.5 1057.54,-69 1057.54,-76\"/>\n</g>\n<!-- 1989087982704 -->\n<g id=\"node5\" class=\"node\">\n<title>1989087982704</title>\n<polygon fill=\"none\" stroke=\"black\" points=\"0,-55.5 0,-91.5 199.5,-91.5 199.5,-55.5 0,-55.5\"/>\n<text text-anchor=\"middle\" x=\"16.25\" y=\"-68.2\" font-family=\"Times New Roman,serif\" font-size=\"14.00\">w1</text>\n<polyline fill=\"none\" stroke=\"black\" points=\"32.5,-55.75 32.5,-91.5\"/>\n<text text-anchor=\"middle\" x=\"75\" y=\"-68.2\" font-family=\"Times New Roman,serif\" font-size=\"14.00\">data &#45;3.0000</text>\n<polyline fill=\"none\" stroke=\"black\" points=\"117.5,-55.75 117.5,-91.5\"/>\n<text text-anchor=\"middle\" x=\"158.5\" y=\"-68.2\" font-family=\"Times New Roman,serif\" font-size=\"14.00\">grad 1.0000</text>\n</g>\n<!-- 1989101229392* -->\n<g id=\"node10\" class=\"node\">\n<title>1989101229392*</title>\n<ellipse fill=\"none\" stroke=\"black\" cx=\"262.5\" cy=\"-73.5\" rx=\"27\" ry=\"18\"/>\n<text text-anchor=\"middle\" x=\"262.5\" y=\"-68.08\" font-family=\"Times New Roman,serif\" font-size=\"14.00\">*</text>\n</g>\n<!-- 1989087982704&#45;&gt;1989101229392* -->\n<g id=\"edge12\" class=\"edge\">\n<title>1989087982704&#45;&gt;1989101229392*</title>\n<path fill=\"none\" stroke=\"black\" d=\"M199.81,-73.5C208.19,-73.5 216.28,-73.5 223.69,-73.5\"/>\n<polygon fill=\"black\" stroke=\"black\" points=\"223.58,-77 233.58,-73.5 223.58,-70 223.58,-77\"/>\n</g>\n<!-- 1989100952208 -->\n<g id=\"node6\" class=\"node\">\n<title>1989100952208</title>\n<polygon fill=\"none\" stroke=\"black\" points=\"1.5,-0.5 1.5,-36.5 198,-36.5 198,-0.5 1.5,-0.5\"/>\n<text text-anchor=\"middle\" x=\"16.25\" y=\"-13.2\" font-family=\"Times New Roman,serif\" font-size=\"14.00\">x1</text>\n<polyline fill=\"none\" stroke=\"black\" points=\"31,-0.75 31,-36.5\"/>\n<text text-anchor=\"middle\" x=\"71.25\" y=\"-13.2\" font-family=\"Times New Roman,serif\" font-size=\"14.00\">data 2.0000</text>\n<polyline fill=\"none\" stroke=\"black\" points=\"111.5,-0.75 111.5,-36.5\"/>\n<text text-anchor=\"middle\" x=\"154.75\" y=\"-13.2\" font-family=\"Times New Roman,serif\" font-size=\"14.00\">grad &#45;1.5000</text>\n</g>\n<!-- 1989100952208&#45;&gt;1989101229392* -->\n<g id=\"edge8\" class=\"edge\">\n<title>1989100952208&#45;&gt;1989101229392*</title>\n<path fill=\"none\" stroke=\"black\" d=\"M173.43,-36.97C182.28,-39.63 191.14,-42.49 199.5,-45.5 209.59,-49.13 220.33,-53.71 229.98,-58.11\"/>\n<polygon fill=\"black\" stroke=\"black\" points=\"228.41,-61.24 238.95,-62.3 231.37,-54.9 228.41,-61.24\"/>\n</g>\n<!-- 1989101230784 -->\n<g id=\"node7\" class=\"node\">\n<title>1989101230784</title>\n<polygon fill=\"none\" stroke=\"black\" points=\"327.75,-110.5 327.75,-146.5 543,-146.5 543,-110.5 327.75,-110.5\"/>\n<text text-anchor=\"middle\" x=\"354.12\" y=\"-123.2\" font-family=\"Times New Roman,serif\" font-size=\"14.00\">x2*w2</text>\n<polyline fill=\"none\" stroke=\"black\" points=\"380.5,-110.75 380.5,-146.5\"/>\n<text text-anchor=\"middle\" x=\"420.75\" y=\"-123.2\" font-family=\"Times New Roman,serif\" font-size=\"14.00\">data 0.0000</text>\n<polyline fill=\"none\" stroke=\"black\" points=\"461,-110.75 461,-146.5\"/>\n<text text-anchor=\"middle\" x=\"502\" y=\"-123.2\" font-family=\"Times New Roman,serif\" font-size=\"14.00\">grad 0.5000</text>\n</g>\n<!-- 1989101231024+ -->\n<g id=\"node13\" class=\"node\">\n<title>1989101231024+</title>\n<ellipse fill=\"none\" stroke=\"black\" cx=\"608.25\" cy=\"-100.5\" rx=\"27\" ry=\"18\"/>\n<text text-anchor=\"middle\" x=\"608.25\" y=\"-95.08\" font-family=\"Times New Roman,serif\" font-size=\"14.00\">+</text>\n</g>\n<!-- 1989101230784&#45;&gt;1989101231024+ -->\n<g id=\"edge6\" class=\"edge\">\n<title>1989101230784&#45;&gt;1989101231024+</title>\n<path fill=\"none\" stroke=\"black\" d=\"M543.14,-111.01C552.86,-109.41 562.18,-107.88 570.57,-106.51\"/>\n<polygon fill=\"black\" stroke=\"black\" points=\"570.94,-110 580.25,-104.92 569.81,-103.09 570.94,-110\"/>\n</g>\n<!-- 1989101230784* -->\n<g id=\"node8\" class=\"node\">\n<title>1989101230784*</title>\n<ellipse fill=\"none\" stroke=\"black\" cx=\"262.5\" cy=\"-128.5\" rx=\"27\" ry=\"18\"/>\n<text text-anchor=\"middle\" x=\"262.5\" y=\"-123.08\" font-family=\"Times New Roman,serif\" font-size=\"14.00\">*</text>\n</g>\n<!-- 1989101230784*&#45;&gt;1989101230784 -->\n<g id=\"edge3\" class=\"edge\">\n<title>1989101230784*&#45;&gt;1989101230784</title>\n<path fill=\"none\" stroke=\"black\" d=\"M289.82,-128.5C297.5,-128.5 306.41,-128.5 315.98,-128.5\"/>\n<polygon fill=\"black\" stroke=\"black\" points=\"315.97,-132 325.97,-128.5 315.97,-125 315.97,-132\"/>\n</g>\n<!-- 1989101229392 -->\n<g id=\"node9\" class=\"node\">\n<title>1989101229392</title>\n<polygon fill=\"none\" stroke=\"black\" points=\"325.5,-55.5 325.5,-91.5 545.25,-91.5 545.25,-55.5 325.5,-55.5\"/>\n<text text-anchor=\"middle\" x=\"351.88\" y=\"-68.2\" font-family=\"Times New Roman,serif\" font-size=\"14.00\">x1*w1</text>\n<polyline fill=\"none\" stroke=\"black\" points=\"378.25,-55.75 378.25,-91.5\"/>\n<text text-anchor=\"middle\" x=\"420.75\" y=\"-68.2\" font-family=\"Times New Roman,serif\" font-size=\"14.00\">data &#45;6.0000</text>\n<polyline fill=\"none\" stroke=\"black\" points=\"463.25,-55.75 463.25,-91.5\"/>\n<text text-anchor=\"middle\" x=\"504.25\" y=\"-68.2\" font-family=\"Times New Roman,serif\" font-size=\"14.00\">grad 0.5000</text>\n</g>\n<!-- 1989101229392&#45;&gt;1989101231024+ -->\n<g id=\"edge10\" class=\"edge\">\n<title>1989101229392&#45;&gt;1989101231024+</title>\n<path fill=\"none\" stroke=\"black\" d=\"M545.56,-90.75C554.32,-92.14 562.71,-93.46 570.34,-94.67\"/>\n<polygon fill=\"black\" stroke=\"black\" points=\"569.7,-98.11 580.13,-96.21 570.8,-91.2 569.7,-98.11\"/>\n</g>\n<!-- 1989101229392*&#45;&gt;1989101229392 -->\n<g id=\"edge4\" class=\"edge\">\n<title>1989101229392*&#45;&gt;1989101229392</title>\n<path fill=\"none\" stroke=\"black\" d=\"M289.82,-73.5C296.93,-73.5 305.11,-73.5 313.89,-73.5\"/>\n<polygon fill=\"black\" stroke=\"black\" points=\"313.78,-77 323.78,-73.5 313.78,-70 313.78,-77\"/>\n</g>\n<!-- 1989101228960 -->\n<g id=\"node11\" class=\"node\">\n<title>1989101228960</title>\n<polygon fill=\"none\" stroke=\"black\" points=\"2.25,-165.5 2.25,-201.5 197.25,-201.5 197.25,-165.5 2.25,-165.5\"/>\n<text text-anchor=\"middle\" x=\"18.5\" y=\"-178.2\" font-family=\"Times New Roman,serif\" font-size=\"14.00\">w2</text>\n<polyline fill=\"none\" stroke=\"black\" points=\"34.75,-165.75 34.75,-201.5\"/>\n<text text-anchor=\"middle\" x=\"75\" y=\"-178.2\" font-family=\"Times New Roman,serif\" font-size=\"14.00\">data 1.0000</text>\n<polyline fill=\"none\" stroke=\"black\" points=\"115.25,-165.75 115.25,-201.5\"/>\n<text text-anchor=\"middle\" x=\"156.25\" y=\"-178.2\" font-family=\"Times New Roman,serif\" font-size=\"14.00\">grad 0.0000</text>\n</g>\n<!-- 1989101228960&#45;&gt;1989101230784* -->\n<g id=\"edge9\" class=\"edge\">\n<title>1989101228960&#45;&gt;1989101230784*</title>\n<path fill=\"none\" stroke=\"black\" d=\"M173.43,-165.03C182.28,-162.37 191.14,-159.51 199.5,-156.5 209.59,-152.87 220.33,-148.29 229.98,-143.89\"/>\n<polygon fill=\"black\" stroke=\"black\" points=\"231.37,-147.1 238.95,-139.7 228.41,-140.76 231.37,-147.1\"/>\n</g>\n<!-- 1989101231024 -->\n<g id=\"node12\" class=\"node\">\n<title>1989101231024</title>\n<polygon fill=\"none\" stroke=\"black\" points=\"671.25,-82.5 671.25,-118.5 943.5,-118.5 943.5,-82.5 671.25,-82.5\"/>\n<text text-anchor=\"middle\" x=\"723.88\" y=\"-95.2\" font-family=\"Times New Roman,serif\" font-size=\"14.00\">x1*w1 + x2*w2</text>\n<polyline fill=\"none\" stroke=\"black\" points=\"776.5,-82.75 776.5,-118.5\"/>\n<text text-anchor=\"middle\" x=\"819\" y=\"-95.2\" font-family=\"Times New Roman,serif\" font-size=\"14.00\">data &#45;6.0000</text>\n<polyline fill=\"none\" stroke=\"black\" points=\"861.5,-82.75 861.5,-118.5\"/>\n<text text-anchor=\"middle\" x=\"902.5\" y=\"-95.2\" font-family=\"Times New Roman,serif\" font-size=\"14.00\">grad 0.5000</text>\n</g>\n<!-- 1989101231024&#45;&gt;1989101231216+ -->\n<g id=\"edge13\" class=\"edge\">\n<title>1989101231024&#45;&gt;1989101231216+</title>\n<path fill=\"none\" stroke=\"black\" d=\"M938.49,-82.02C949.28,-80.49 959.5,-79.03 968.57,-77.75\"/>\n<polygon fill=\"black\" stroke=\"black\" points=\"968.86,-81.24 978.27,-76.37 967.87,-74.31 968.86,-81.24\"/>\n</g>\n<!-- 1989101231024+&#45;&gt;1989101231024 -->\n<g id=\"edge5\" class=\"edge\">\n<title>1989101231024+&#45;&gt;1989101231024</title>\n<path fill=\"none\" stroke=\"black\" d=\"M635.43,-100.5C642.57,-100.5 650.85,-100.5 659.84,-100.5\"/>\n<polygon fill=\"black\" stroke=\"black\" points=\"659.6,-104 669.6,-100.5 659.6,-97 659.6,-104\"/>\n</g>\n<!-- 1989101229008 -->\n<g id=\"node14\" class=\"node\">\n<title>1989101229008</title>\n<polygon fill=\"none\" stroke=\"black\" points=\"714.38,-27.5 714.38,-63.5 900.38,-63.5 900.38,-27.5 714.38,-27.5\"/>\n<text text-anchor=\"middle\" x=\"726.12\" y=\"-40.2\" font-family=\"Times New Roman,serif\" font-size=\"14.00\">b</text>\n<polyline fill=\"none\" stroke=\"black\" points=\"737.88,-27.75 737.88,-63.5\"/>\n<text text-anchor=\"middle\" x=\"778.12\" y=\"-40.2\" font-family=\"Times New Roman,serif\" font-size=\"14.00\">data 6.8814</text>\n<polyline fill=\"none\" stroke=\"black\" points=\"818.38,-27.75 818.38,-63.5\"/>\n<text text-anchor=\"middle\" x=\"859.38\" y=\"-40.2\" font-family=\"Times New Roman,serif\" font-size=\"14.00\">grad 0.5000</text>\n</g>\n<!-- 1989101229008&#45;&gt;1989101231216+ -->\n<g id=\"edge7\" class=\"edge\">\n<title>1989101229008&#45;&gt;1989101231216+</title>\n<path fill=\"none\" stroke=\"black\" d=\"M900.59,-58.13C924.65,-61.43 949.22,-64.79 968.53,-67.44\"/>\n<polygon fill=\"black\" stroke=\"black\" points=\"967.94,-70.89 978.32,-68.78 968.89,-63.95 967.94,-70.89\"/>\n</g>\n<!-- 1989088286704 -->\n<g id=\"node15\" class=\"node\">\n<title>1989088286704</title>\n<polygon fill=\"none\" stroke=\"black\" points=\"3.75,-110.5 3.75,-146.5 195.75,-146.5 195.75,-110.5 3.75,-110.5\"/>\n<text text-anchor=\"middle\" x=\"18.5\" y=\"-123.2\" font-family=\"Times New Roman,serif\" font-size=\"14.00\">x2</text>\n<polyline fill=\"none\" stroke=\"black\" points=\"33.25,-110.75 33.25,-146.5\"/>\n<text text-anchor=\"middle\" x=\"73.5\" y=\"-123.2\" font-family=\"Times New Roman,serif\" font-size=\"14.00\">data 0.0000</text>\n<polyline fill=\"none\" stroke=\"black\" points=\"113.75,-110.75 113.75,-146.5\"/>\n<text text-anchor=\"middle\" x=\"154.75\" y=\"-123.2\" font-family=\"Times New Roman,serif\" font-size=\"14.00\">grad 0.5000</text>\n</g>\n<!-- 1989088286704&#45;&gt;1989101230784* -->\n<g id=\"edge11\" class=\"edge\">\n<title>1989088286704&#45;&gt;1989101230784*</title>\n<path fill=\"none\" stroke=\"black\" d=\"M196.12,-128.5C205.86,-128.5 215.3,-128.5 223.83,-128.5\"/>\n<polygon fill=\"black\" stroke=\"black\" points=\"223.71,-132 233.71,-128.5 223.71,-125 223.71,-132\"/>\n</g>\n</g>\n</svg>\n",
      "text/plain": "<graphviz.graphs.Digraph at 0x1cf1fac2570>"
     },
     "execution_count": 14,
     "metadata": {},
     "output_type": "execute_result"
    }
   ],
   "source": [
    "draw_dot(o)"
   ]
  },
  {
   "cell_type": "code",
   "execution_count": null,
   "id": "d21ff4ef-f523-4aa9-a1d3-d46976da4e98",
   "metadata": {
    "ExecuteTime": {
     "start_time": "2024-10-07T10:09:52.066585500Z"
    }
   },
   "outputs": [],
   "source": [
    "import os\n",
    "\n",
    "# Option 1: Escape backslashes\n",
    "os.environ[\"PATH\"] += os.pathsep + 'C:\\\\Users\\\\user\\\\PycharmProjects\\\\pythonProject4\\\\Graphviz\\\\bin'\n",
    "\n",
    "# Option 2: Use a raw string\n",
    "os.environ[\"PATH\"] += os.pathsep + r'C:\\Users\\user\\PycharmProjects\\pythonProject4\\Graphviz\\bin'\n",
    "\n"
   ]
  },
  {
   "cell_type": "code",
   "execution_count": null,
   "id": "5dd5832f-4259-462a-a10f-ae2f906693de",
   "metadata": {
    "scrolled": true,
    "ExecuteTime": {
     "start_time": "2024-10-07T10:09:52.070692400Z"
    }
   },
   "outputs": [],
   "source": [
    "draw_dot(o)"
   ]
  },
  {
   "cell_type": "code",
   "execution_count": null,
   "id": "9b26f1b0-0047-4c52-99e7-fbed968231da",
   "metadata": {
    "ExecuteTime": {
     "start_time": "2024-10-07T10:09:52.074779700Z"
    }
   },
   "outputs": [],
   "source": [
    "x1 = Value(2.0, label='x1')\n",
    "x2 = Value(0.0, label='x2')\n",
    "# weights w1,w2\n",
    "w1 = Value(-3.0, label='w1')\n",
    "w2 = Value(1.0, label='w2')\n",
    "# bias of the neuron\n",
    "b = Value(6.8813735870195432, label='b')\n",
    "# x1*w1 + x2*w2 + b\n",
    "x1w1 = x1*w1; x1w1.label = 'x1*w1'\n",
    "x2w2 = x2*w2; x2w2.label = 'x2*w2'\n",
    "x1w1x2w2 = x1w1 + x2w2; x1w1x2w2.label = 'x1*w1 + x2*w2'\n",
    "n = x1w1x2w2 + b; n.label = 'n'\n",
    "o = n.tanh(); o.label = 'o'\n",
    "o.backward()\n",
    "draw_dot(o)"
   ]
  },
  {
   "cell_type": "code",
   "execution_count": null,
   "id": "11ed8af6-b874-4ba7-8ec3-201afaf5fe27",
   "metadata": {
    "ExecuteTime": {
     "end_time": "2024-10-07T10:09:52.117984500Z",
     "start_time": "2024-10-07T10:09:52.077879800Z"
    }
   },
   "outputs": [],
   "source": [
    "draw_dot(o)"
   ]
  },
  {
   "cell_type": "code",
   "execution_count": null,
   "id": "ca60f46f-5355-4c34-a9a6-a8647742407b",
   "metadata": {},
   "outputs": [],
   "source": [
    "darw_dot"
   ]
  },
  {
   "cell_type": "code",
   "execution_count": null,
   "id": "375dcb18-98fa-4042-82b1-6d226ad5e1d3",
   "metadata": {},
   "outputs": [],
   "source": []
  },
  {
   "cell_type": "code",
   "execution_count": null,
   "id": "426a06d7-81eb-4005-b527-6ffce402da07",
   "metadata": {},
   "outputs": [],
   "source": []
  }
 ],
 "metadata": {
  "kernelspec": {
   "display_name": "Python 3 (ipykernel)",
   "language": "python",
   "name": "python3"
  },
  "language_info": {
   "codemirror_mode": {
    "name": "ipython",
    "version": 3
   },
   "file_extension": ".py",
   "mimetype": "text/x-python",
   "name": "python",
   "nbconvert_exporter": "python",
   "pygments_lexer": "ipython3",
   "version": "3.12.1"
  }
 },
 "nbformat": 4,
 "nbformat_minor": 5
}
