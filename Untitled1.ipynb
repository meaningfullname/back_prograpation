{
 "cells": [
  {
   "cell_type": "code",
   "execution_count": 1,
   "id": "2bb40695-6baf-4d26-bce7-df8529be53ba",
   "metadata": {
    "ExecuteTime": {
     "end_time": "2024-10-07T10:07:27.031902800Z",
     "start_time": "2024-10-07T10:07:26.942312900Z"
    }
   },
   "outputs": [],
   "source": [
    "import math \n",
    "from graphviz import Digraph"
   ]
  },
  {
   "cell_type": "code",
   "execution_count": 2,
   "id": "962de1e1-e57d-4131-b078-7b2b6ba438e9",
   "metadata": {
    "ExecuteTime": {
     "end_time": "2024-10-07T10:07:27.647033100Z",
     "start_time": "2024-10-07T10:07:27.031902800Z"
    }
   },
   "outputs": [],
   "source": [
    "import matplotlib\n",
    "import numpy "
   ]
  },
  {
   "cell_type": "code",
   "execution_count": 4,
   "id": "261a6799-52af-45be-b9d2-dd9217468b76",
   "metadata": {
    "ExecuteTime": {
     "end_time": "2024-10-07T10:07:54.743659200Z",
     "start_time": "2024-10-07T10:07:54.688241100Z"
    }
   },
   "outputs": [
    {
     "ename": "SyntaxError",
     "evalue": "invalid syntax (4095723823.py, line 14)",
     "output_type": "error",
     "traceback": [
      "\u001B[1;36m  Cell \u001B[1;32mIn[4], line 14\u001B[1;36m\u001B[0m\n\u001B[1;33m    other=other+if isinstance(other,Value) else Value(other)\u001B[0m\n\u001B[1;37m                ^\u001B[0m\n\u001B[1;31mSyntaxError\u001B[0m\u001B[1;31m:\u001B[0m invalid syntax\n"
     ]
    }
   ],
   "source": [
    "def Value():\n",
    "    def init(self,data,children=(),_op='',lable=''):\n",
    "        self.data=data\n",
    "        self.grad=0.0\n",
    "        set.bacward=lambda:None\n",
    "        \n",
    "        self._prev=set(_children)\n",
    "        self._op=_op\n",
    "        self.label=label\n",
    "    def __repr__(self ):\n",
    "        return (f\"Value(data{self.data }\")\n",
    "        \n",
    "    def _add():\n",
    "        other=other+if isinstance(other,Value) else Value(other)\n",
    "        out=-Value(self.data+other.data,(self,other) ,'+')\n",
    "    def backward():\n",
    "        self.grad+=out.grad *1.0\n",
    "        self.grad +=out.grad*1.0 \n",
    "    out._backward=_backward \n",
    "\n",
    "    return out \n",
    "    def __mul__(other,self):\n",
    "        other=other+if isinstance(other,Value) else Value(other)\n",
    "        outValue(self.data*other.data,(self,other) ,'*')\n",
    "    def _backward():\n",
    "        self.grad+=self.grad *out.grad \n",
    "        self.grad +=self.grad *out.grad \n",
    "    out._backward =_backward\n",
    "    def __pow__():\n",
    "        assert isinstance (other ,(int,float)),\"only support flaot and int number\"\n",
    "        out=Value(self.data**other,(self),f'**{other}')\n",
    "\n",
    "    def _backward():\n",
    "        self.grad +=other *(self.data**(other -1)*out\n",
    "    out._backward =backward\n",
    "\n",
    "    return out \n",
    "    def __rmul__(self, other): # other * self\n",
    "    return self * other\n",
    "\n",
    "  def __truediv__(self, other): # self / other\n",
    "    return self * other**-1\n",
    "\n",
    "  def __neg__(self): # -self\n",
    "    return self * -1\n",
    "\n",
    "  def __sub__(self, other): # self - other\n",
    "    return self + (-other)\n",
    "\n",
    "  def __radd__(self, other): # other + self\n",
    "    return self + other\n",
    "\n",
    "  def tanh(self):\n",
    "    x = self.data\n",
    "    t = (math.exp(2*x) - 1)/(math.exp(2*x) + 1)\n",
    "    out = Value(t, (self, ), 'tanh')\n",
    "\n",
    "def backward(self):\n",
    "    topo=[]\n",
    "    visited=set()\n",
    "\n",
    "    def build_topo(v):\n",
    "        if v not in visited:\n",
    "            visited.add(v)\n",
    "            for child in v._prev:\n",
    "                build_topo(child)\n",
    "            topo.append(v)\n",
    "        build_topo(self)\n",
    "        self.grad=1.0\n",
    "        for node in reversed(topo):\n",
    "        node._backward()\n",
    "        \n",
    "\n",
    "    "
   ]
  },
  {
   "cell_type": "code",
   "execution_count": null,
   "id": "dbd41ad7-b6cc-43cd-be64-1f8fef46cdd7",
   "metadata": {},
   "outputs": [],
   "source": []
  }
 ],
 "metadata": {
  "kernelspec": {
   "display_name": "Python 3 (ipykernel)",
   "language": "python",
   "name": "python3"
  },
  "language_info": {
   "codemirror_mode": {
    "name": "ipython",
    "version": 3
   },
   "file_extension": ".py",
   "mimetype": "text/x-python",
   "name": "python",
   "nbconvert_exporter": "python",
   "pygments_lexer": "ipython3",
   "version": "3.12.1"
  }
 },
 "nbformat": 4,
 "nbformat_minor": 5
}
